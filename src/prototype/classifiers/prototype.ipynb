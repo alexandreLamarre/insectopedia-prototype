{
 "cells": [
  {
   "cell_type": "code",
   "execution_count": 1,
   "id": "3c81b2ee",
   "metadata": {},
   "outputs": [],
   "source": [
    "# Do something here"
   ]
  },
  {
   "cell_type": "code",
   "execution_count": 3,
   "id": "19617fc6",
   "metadata": {},
   "outputs": [
    {
     "name": "stderr",
     "output_type": "stream",
     "text": [
      "[NbConvertApp] Converting notebook prototype.ipynb to script\n",
      "[NbConvertApp] Writing 244 bytes to prototype.py\n"
     ]
    }
   ],
   "source": [
    "!python3 -m nbconvert --to script prototype.ipynb\n",
    "#\n",
    "with open('prototype.py', 'r') as f:\n",
    "    lines = f.readlines()\n",
    "with open('prototype.py', 'w') as f:\n",
    "    for line in lines:\n",
    "        if 'nbconvert --to script' in line:\n",
    "            break\n",
    "        else:\n",
    "            f.write(line)"
   ]
  },
  {
   "cell_type": "code",
   "execution_count": null,
   "id": "04ae5340",
   "metadata": {},
   "outputs": [],
   "source": []
  }
 ],
 "metadata": {
  "kernelspec": {
   "display_name": "Python 3 (ipykernel)",
   "language": "python",
   "name": "python3"
  },
  "language_info": {
   "codemirror_mode": {
    "name": "ipython",
    "version": 3
   },
   "file_extension": ".py",
   "mimetype": "text/x-python",
   "name": "python",
   "nbconvert_exporter": "python",
   "pygments_lexer": "ipython3",
   "version": "3.9.9"
  }
 },
 "nbformat": 4,
 "nbformat_minor": 5
}
