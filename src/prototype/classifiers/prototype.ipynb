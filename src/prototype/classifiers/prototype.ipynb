{
 "cells": [
  {
   "cell_type": "code",
   "execution_count": 5,
   "id": "0b8bfff1",
   "metadata": {},
   "outputs": [],
   "source": [
    "# Do something here"
   ]
  },
  {
   "cell_type": "code",
   "execution_count": null,
   "id": "58dc0f26",
   "metadata": {},
   "outputs": [],
   "source": []
  },
  {
   "cell_type": "code",
   "execution_count": 6,
   "id": "d4c8d4f7",
   "metadata": {},
   "outputs": [
    {
     "name": "stderr",
     "output_type": "stream",
     "text": [
      "[NbConvertApp] Converting notebook prototype.ipynb to script\n",
      "[NbConvertApp] Writing 398 bytes to prototype.py\n"
     ]
    }
   ],
   "source": [
    "!python3 -m nbconvert --to script prototype.ipynb\n",
    "# Automatically writes jupyter notebook contents to a python file \n",
    "# when executed\n",
    "with open('prototype.py', 'r') as f:\n",
    "    lines = f.readlines()\n",
    "with open('prototype.py', 'w') as f:\n",
    "    for line in lines:\n",
    "        if 'nbconvert --to script' in line:\n",
    "            break\n",
    "        else:\n",
    "            f.write(line)"
   ]
  },
  {
   "cell_type": "code",
   "execution_count": null,
   "id": "fc767e0b",
   "metadata": {},
   "outputs": [],
   "source": []
  }
 ],
 "metadata": {
  "kernelspec": {
   "display_name": "Python 3 (ipykernel)",
   "language": "python",
   "name": "python3"
  },
  "language_info": {
   "codemirror_mode": {
    "name": "ipython",
    "version": 3
   },
   "file_extension": ".py",
   "mimetype": "text/x-python",
   "name": "python",
   "nbconvert_exporter": "python",
   "pygments_lexer": "ipython3",
   "version": "3.9.9"
  }
 },
 "nbformat": 4,
 "nbformat_minor": 5
}
